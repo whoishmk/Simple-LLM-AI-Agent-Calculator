{
 "cells": [
  {
   "cell_type": "code",
   "execution_count": 18,
   "id": "635bb47e",
   "metadata": {},
   "outputs": [],
   "source": [
    "from typing import Annotated , Sequence , TypedDict\n",
    "from dotenv import load_dotenv\n",
    "from langchain_core.messages import BaseMessage # The foundational class for all message types in LangGraph\n",
    "from langchain_core.messages import ToolMessage # Passes data back to LLM after it calls a tool\n",
    "from langchain_core.messages import SystemMessage # Message for providing instructions to the LLM\n",
    "from langchain_openai import ChatOpenAI\n",
    "from langchain_core.tools import tool\n",
    "from langgraph.graph.message import add_messages\n",
    "from langgraph.graph import StateGraph , END\n",
    "from langgraph.prebuilt import ToolNode"
   ]
  },
  {
   "cell_type": "code",
   "execution_count": 19,
   "id": "96fe75ee",
   "metadata": {},
   "outputs": [
    {
     "data": {
      "text/plain": [
       "True"
      ]
     },
     "execution_count": 19,
     "metadata": {},
     "output_type": "execute_result"
    }
   ],
   "source": [
    "load_dotenv(override=True)"
   ]
  },
  {
   "cell_type": "code",
   "execution_count": 20,
   "id": "a774fb81",
   "metadata": {},
   "outputs": [],
   "source": [
    "class AgentState(TypedDict):\n",
    "    messages : Annotated[Sequence[BaseMessage] , add_messages]\n",
    "\n",
    "\n",
    "\n",
    "@tool\n",
    "def add(a: int , b:int):\n",
    "    \"\"\"This is an addition function that adds 2 numbers together\"\"\"\n",
    "\n",
    "    return a+b\n",
    "\n",
    "@tool\n",
    "def subtract(a: int , b:int):\n",
    "    \"\"\"This is an subtraction function that subtracts two numbers\"\"\"\n",
    "    return a-b\n",
    "\n",
    "@tool\n",
    "def multiply(a:int , b:int):\n",
    "    \"\"\"This is a function that multiplies two numbers together\"\"\"\n",
    "    return a * b\n"
   ]
  },
  {
   "cell_type": "code",
   "execution_count": 21,
   "id": "b7e12578",
   "metadata": {},
   "outputs": [],
   "source": [
    "tools = [add , subtract , multiply]\n",
    "\n",
    "model = ChatOpenAI(model = 'gpt-4.1-nano').bind_tools(tools)"
   ]
  },
  {
   "cell_type": "code",
   "execution_count": 22,
   "id": "9a3dd668",
   "metadata": {},
   "outputs": [],
   "source": [
    "def model_call(state : AgentState) -> AgentState:\n",
    "    system_prompt = SystemMessage(content='You are my AI assistant , please answer my query to the best of your ability')\n",
    "    \n",
    "    response = model.invoke([system_prompt] + state['messages'])\n",
    "    return {'messages' : [response]}"
   ]
  },
  {
   "cell_type": "code",
   "execution_count": 23,
   "id": "77d318e6",
   "metadata": {},
   "outputs": [],
   "source": [
    "def should_continue(state : AgentState):\n",
    "    messages = state['messages']\n",
    "    last_message = messages[-1]\n",
    "    if not last_message.tool_calls:\n",
    "        return 'end'\n",
    "    else:\n",
    "        return 'continue'\n"
   ]
  },
  {
   "cell_type": "code",
   "execution_count": 24,
   "id": "1d6c0a5a",
   "metadata": {},
   "outputs": [
    {
     "data": {
      "text/plain": [
       "<langgraph.graph.state.StateGraph at 0x1d78ee85100>"
      ]
     },
     "execution_count": 24,
     "metadata": {},
     "output_type": "execute_result"
    }
   ],
   "source": [
    "graph = StateGraph(AgentState)\n",
    "graph.add_node('our_agent' , model_call)"
   ]
  },
  {
   "cell_type": "code",
   "execution_count": 25,
   "id": "94dc6c8f",
   "metadata": {},
   "outputs": [
    {
     "data": {
      "text/plain": [
       "<langgraph.graph.state.StateGraph at 0x1d78ee85100>"
      ]
     },
     "execution_count": 25,
     "metadata": {},
     "output_type": "execute_result"
    }
   ],
   "source": [
    "tool_node = ToolNode(tools=tools)\n",
    "graph.add_node('tools' , tool_node)"
   ]
  },
  {
   "cell_type": "code",
   "execution_count": 26,
   "id": "6b2a84fb",
   "metadata": {},
   "outputs": [],
   "source": [
    "graph.set_entry_point('our_agent')\n",
    "\n",
    "graph.add_conditional_edges(\n",
    "    'our_agent',\n",
    "    should_continue,\n",
    "    {\n",
    "        'continue' : 'tools',\n",
    "        'end' : END\n",
    "    },\n",
    ")\n",
    "\n",
    "graph.add_edge('tools' , 'our_agent')\n",
    "\n",
    "app = graph.compile()"
   ]
  },
  {
   "cell_type": "code",
   "execution_count": 27,
   "id": "c22dcb3c",
   "metadata": {},
   "outputs": [
    {
     "data": {
      "image/png": "[encoded data removed]",
      "text/plain": [
       "<langgraph.graph.state.CompiledStateGraph object at 0x000001D78C554380>"
      ]
     },
     "execution_count": 27,
     "metadata": {},
     "output_type": "execute_result"
    }
   ],
   "source": [
    "app"
   ]
  },
  {
   "cell_type": "code",
   "execution_count": 28,
   "id": "f0a915d8",
   "metadata": {},
   "outputs": [],
   "source": [
    "def print_stream(stream):\n",
    "    for s in stream:\n",
    "        message = s['messages'][-1]\n",
    "        if isinstance(message,tuple):\n",
    "            print(message)\n",
    "        else:\n",
    "            message.pretty_print()"
   ]
  },
  {
   "cell_type": "code",
   "execution_count": 29,
   "id": "1c9d3c33",
   "metadata": {},
   "outputs": [
    {
     "name": "stdout",
     "output_type": "stream",
     "text": [
      "================================\u001b[1m Human Message \u001b[0m=================================\n",
      "\n",
      "Add 3 + 4 and multiply 7 and 13\n",
      "==================================\u001b[1m Ai Message \u001b[0m==================================\n",
      "Tool Calls:\n",
      "  add (call_4r9DrlugsqGR3k7aWuZdlFyn)\n",
      " Call ID: call_4r9DrlugsqGR3k7aWuZdlFyn\n",
      "  Args:\n",
      "    a: 3\n",
      "    b: 4\n",
      "  multiply (call_ZnQbbfyZq9M3zWqAb6W1ItNL)\n",
      " Call ID: call_ZnQbbfyZq9M3zWqAb6W1ItNL\n",
      "  Args:\n",
      "    a: 7\n",
      "    b: 13\n",
      "=================================\u001b[1m Tool Message \u001b[0m=================================\n",
      "Name: multiply\n",
      "\n",
      "91\n",
      "==================================\u001b[1m Ai Message \u001b[0m==================================\n",
      "\n",
      "The sum of 3 and 4 is 7, and the product of 7 and 13 is 91.\n"
     ]
    }
   ],
   "source": [
    "inputs = {'messages' : [('user' , 'Add 3 + 4 and multiply 7 and 13')]}\n",
    "print_stream(app.stream(inputs , stream_mode = 'values'))"
   ]
  },
  {
   "cell_type": "code",
   "execution_count": null,
   "id": "c820a57b",
   "metadata": {},
   "outputs": [],
   "source": []
  }
 ],
 "metadata": {
  "kernelspec": {
   "display_name": "base",
   "language": "python",
   "name": "python3"
  },
  "language_info": {
   "codemirror_mode": {
    "name": "ipython",
    "version": 3
   },
   "file_extension": ".py",
   "mimetype": "text/x-python",
   "name": "python",
   "nbconvert_exporter": "python",
   "pygments_lexer": "ipython3",
   "version": "3.12.7"
  }
 },
 "nbformat": 4,
 "nbformat_minor": 5
}
